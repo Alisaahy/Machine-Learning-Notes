{
 "cells": [
  {
   "cell_type": "markdown",
   "metadata": {},
   "source": [
    "# Logistic regression and LDA \n",
    "\n",
    "Consider the two-class setting with $p = 1$ predictor, and let $p_1(x)$ and $p_2(x) = 1−p_1(x)$ be the probabilities that the observation $X = x$ belongs to class 1 and class 2, respectively.\n",
    "\n",
    "In LDA, as\n",
    "\n",
    "\\begin{align}\n",
    "\\delta_k(x)=x\\frac{\\mu_k}{\\sigma^2}-\\frac{\\mu_k^2}{2\\sigma^2}+\\log(\\pi_k) \n",
    "\\end{align}\n",
    "\n",
    "the **log odds** can be given by\n",
    "\n",
    "\\begin{align}\n",
    "\\log{\\frac{p_1(x)}{1-p_1(x)}}=\\log{\\frac{p_1(x)}{p_2(x)}}=c_0+c_1x\n",
    "\\end{align}\n",
    "\n",
    "where c0 and c1 are functions of μ1, μ2, and σ2.\n",
    "\n",
    "In Logistic Regression,\n",
    "\n",
    "\\begin{align}\n",
    "\\log{\\frac{p_1}{1-p_1}}=\\beta_0+\\beta_1x\n",
    "\\end{align}\n",
    "\n",
    "- **Both logistic regression and LDA produce linear decision boundaries.** This same connection between LDA and logistic regression also holds for multidimensional data with p > 1.\n",
    "\n",
    "**DIFFERENCES**\n",
    "\n",
    "- In logistic regression, β0 and β1 are estimated using maximum likelihood, whereas c0 and c1 are computed using the estimated mean and variance from a normal distribution.\n",
    "\n",
    "- Since logistic regression and LDA differ only in their fitting procedures, one might expect the two approaches to give similar results. This is often, but not always the case. \n",
    " - LDA assumes that the observations are drawn from a Gaussian distribution with a common covariance matrix in each class, and so can provide some improvements over logistic regression when this assumption approximately holds. Conversely, logistic regression can outperform LDA if these Gaussian assumptions are not met."
   ]
  },
  {
   "cell_type": "markdown",
   "metadata": {},
   "source": [
    "# Non-parametric KNN for non-linear data\n",
    "\n",
    "**Pros:**\n",
    "KNN is a completely non-parametric approach: no assumptions are made about the shape of the decision boundary. Therefore, we can expect this approach to dominate LDA and logistic regression when the decision boundary is highly **non-linear**. \n",
    "\n",
    "**Cons:**\n",
    "On the other hand, KNN does not tell us which predictors are important; we don’t get a table of coefficients."
   ]
  },
  {
   "cell_type": "markdown",
   "metadata": {},
   "source": [
    "# QDA serves as a compromise between KNN method, linear LDA and logistic\n",
    "\n",
    "QDA serves as a compromise between the non-parametric KNN method and the linear LDA and logistic regression approaches. \n",
    "- Since QDA assumes a **quadratic decision boundary**, it can accurately model a wider range of problems than can the linear methods. \n",
    "- Though **not as flexible as KNN**, QDA can perform better in the presence of a **limited number of training observations** because it does make some assumptions about the form of the decision boundary.\n"
   ]
  },
  {
   "cell_type": "markdown",
   "metadata": {},
   "source": [
    "# No one method will dominate the others in every situation. \n",
    "- When the true decision boundaries are **linear**, then the LDA and logistic regression approaches will tend to perform well. \n",
    "- When the boundaries are **moderately non-linear**, QDA may give better results. \n",
    "- Finally, for much **more complicated decision boundaries**, a non-parametric approach such as KNN can be superior. But the level of smoothness for a non-parametric approach must be chosen carefully."
   ]
  },
  {
   "cell_type": "code",
   "execution_count": null,
   "metadata": {},
   "outputs": [],
   "source": []
  }
 ],
 "metadata": {
  "kernelspec": {
   "display_name": "Python 3",
   "language": "python",
   "name": "python3"
  },
  "language_info": {
   "codemirror_mode": {
    "name": "ipython",
    "version": 3
   },
   "file_extension": ".py",
   "mimetype": "text/x-python",
   "name": "python",
   "nbconvert_exporter": "python",
   "pygments_lexer": "ipython3",
   "version": "3.7.4"
  },
  "toc": {
   "base_numbering": 1,
   "nav_menu": {},
   "number_sections": true,
   "sideBar": true,
   "skip_h1_title": false,
   "title_cell": "Table of Contents",
   "title_sidebar": "Contents",
   "toc_cell": false,
   "toc_position": {},
   "toc_section_display": true,
   "toc_window_display": false
  }
 },
 "nbformat": 4,
 "nbformat_minor": 2
}
