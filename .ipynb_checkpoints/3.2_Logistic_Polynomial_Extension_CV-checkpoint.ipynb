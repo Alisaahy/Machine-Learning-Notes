{
 "cells": [
  {
   "cell_type": "markdown",
   "metadata": {},
   "source": [
    "Example:\n",
    "\n",
    "<img src=\"./images/62.png\" width=600>\n",
    "\n",
    "Ordinary logistic regression function does not have enough flexibility to model such a non-linear decision boundary in this setting. \n",
    "\n",
    "We can easily extend logistic regression to obtain a non-linear decision boundary by using polynomial functions of the predictors, as we did for linear regression. For example, we can fit a quadratic logistic regression model, given by:\n",
    "\n",
    "\\begin{align}\n",
    "\\log{\\frac{p(X)}{1-p(X)}}=\\beta_0+\\beta_1X_1+\\beta_2X_1^2+\\beta_3X_2+\\beta_4X_2^2\n",
    "\\end{align}\n",
    "\n",
    "In practice, for real data, the Bayes decision boundary and the test error rates are unknown. So how might we decide between models with different flexibility?\n",
    "\n",
    "<img src=\"./images/63.png\" width=600>\n",
    "\n",
    "Overall, the training error tends to decrease as the flexibility of the fit increases. In contrast, the test error displays a characteristic **U-shape**. The 10-fold CV error rate provides a pretty good approximation to the test error rate. It reaches a minimum when fourth-order polynomials are used."
   ]
  }
 ],
 "metadata": {
  "kernelspec": {
   "display_name": "Python 3",
   "language": "python",
   "name": "python3"
  },
  "language_info": {
   "codemirror_mode": {
    "name": "ipython",
    "version": 3
   },
   "file_extension": ".py",
   "mimetype": "text/x-python",
   "name": "python",
   "nbconvert_exporter": "python",
   "pygments_lexer": "ipython3",
   "version": "3.7.4"
  },
  "toc": {
   "base_numbering": 1,
   "nav_menu": {},
   "number_sections": true,
   "sideBar": true,
   "skip_h1_title": false,
   "title_cell": "Table of Contents",
   "title_sidebar": "Contents",
   "toc_cell": false,
   "toc_position": {},
   "toc_section_display": true,
   "toc_window_display": false
  }
 },
 "nbformat": 4,
 "nbformat_minor": 2
}
