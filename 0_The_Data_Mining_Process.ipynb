{
 "cells": [
  {
   "cell_type": "markdown",
   "metadata": {},
   "source": [
    "<img src=\"images/115.png\" width=\"500\">\n",
    "\n",
    "**Iteration** is the rule. Often the entire process is an exploration of the data, and after the first iteration the data science team knows much more. The next iteration can be much more well-informed. \n",
    "\n",
    "\n",
    "**Business Understanding**: In this first stage, the design team should think carefully about the **use scenario**. What exactly do we want to do? How exactly would we do it? What parts of this use scenario constitute possible data mining models?\n",
    "\n",
    "\n",
    "**Data Understanding**: We need to **uncover the structure of the business problem** and **the data that are available**, and then **match them to one or more data mining tasks**. It is not unusual for a business problem to contain several data mining tasks, often of different types, and **combining their solutions will be necessary**.\n",
    "\n",
    "> e.g. For credit card fraud, we can reasonably assume that every credit card transaction has **reliable labels** (fraud and legitimate) that may serve as targets for a supervised technique. Because fraudulent charges can usually be caught—if not initially by the company, then later by the customer when account activity is reviewed.\n",
    "\n",
    "> However, Medicare fraud is a significantly different problem. People who commit fraud are a subset of the legitimate users and it's hard for a third-party to declare exactly what the “correct” charges should be. Consequently the Medicare billing data have **no reliable target variable indicating fraud**, and a supervised learning approach that could work for credit card fraud is not applicable. Such a problem usually requires unsupervised approaches such as **profiling, clustering, anomaly detection, and co-occurrence grouping**.\n",
    "\n",
    "\n",
    "**Data Preparation**: Data are manipulated and converted into forms that yield better results. Typical examples of data preparation are **converting data to tabular format, removing or inferring missing values, and converting data to different types**. Numerical values must often be **normalized** so that they are comparable.\n",
    "\n",
    "> Leakage must be considered carefully during data preparation. A leak is a situation where a variable collected in historical data gives information on the target variable.\n",
    "\n",
    "\n",
    "**Modeling**: The modeling stage is the primary place where data mining techniques are applied to the data.\n",
    "\n",
    "\n",
    "**Evaluation**: Assess the data mining results rigorously and to gain confidence that they are valid and reliable before moving on. Should also ensure that the model **satisfies the original business goals**. Evaluating the results of data mining includes both **quantitative and qualitative assessments**.\n",
    "\n",
    "> A model may be extremely accurate (> 99%) by laboratory standards, but evaluation in the actual business context may reveal that it still produces too many false alarms to be economically feasible.\n",
    "\n",
    "\n",
    "**Deployment**: Implement a predictive model in some infor‐ mation system or business process. In practice, there should be shortcuts back from each stage to each prior one because the process always retains some exploratory aspects, and a project should be flexible enough to revisit prior steps based on discoveries made."
   ]
  },
  {
   "cell_type": "code",
   "execution_count": null,
   "metadata": {},
   "outputs": [],
   "source": []
  }
 ],
 "metadata": {
  "kernelspec": {
   "display_name": "Python 3",
   "language": "python",
   "name": "python3"
  },
  "language_info": {
   "codemirror_mode": {
    "name": "ipython",
    "version": 3
   },
   "file_extension": ".py",
   "mimetype": "text/x-python",
   "name": "python",
   "nbconvert_exporter": "python",
   "pygments_lexer": "ipython3",
   "version": "3.7.4"
  },
  "toc": {
   "base_numbering": 1,
   "nav_menu": {},
   "number_sections": true,
   "sideBar": true,
   "skip_h1_title": false,
   "title_cell": "Table of Contents",
   "title_sidebar": "Contents",
   "toc_cell": false,
   "toc_position": {},
   "toc_section_display": true,
   "toc_window_display": false
  }
 },
 "nbformat": 4,
 "nbformat_minor": 2
}
